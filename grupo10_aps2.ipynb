{
 "cells": [
  {
   "cell_type": "markdown",
   "metadata": {},
   "source": [
    "# APS 2 – ANÁLISE DA DIFUSÃO DE UM POLUENTE EM UM RIO COM CORRENTEZA\n",
    "\n",
    "### Grupo 10 - Matheus Castellucci, Pedro Gomes, João Pedro dos Santos"
   ]
  },
  {
   "cell_type": "code",
   "execution_count": 34,
   "metadata": {},
   "outputs": [],
   "source": [
    "from math import *\n",
    "import matplotlib.pyplot as plt\n",
    "import numpy as np"
   ]
  },
  {
   "cell_type": "markdown",
   "metadata": {},
   "source": [
    "Esses são os parâmetros que modelam o sistema:\n",
    "\n",
    "<img src = \"imgs/Funcao1.png\">"
   ]
  },
  {
   "cell_type": "markdown",
   "metadata": {},
   "source": [
    "Como trata-se de um sistema de difusão de poluentes no rio, devemos usar a mesma equação para a difusão de calor. \n",
    "<img src = \"imgs/Funcao2.png\">"
   ]
  },
  {
   "cell_type": "markdown",
   "metadata": {},
   "source": [
    "Esses são os objetivos que devem ser respondidos com a APS: \n",
    "<img src = \"imgs/Tarefas.png\">"
   ]
  },
  {
   "cell_type": "markdown",
   "metadata": {},
   "source": [
    "## Tarefa 1 (2,0 pontos):\n",
    "### Substitua as derivadas da equação de Burgers pelas aproximações de diferenças finitas. Use diferença central para as derivadas em X e Y e diferença avançada para a derivada no tempo\n",
    "![Alt text](imgs/tarefa1_feita.jpeg)"
   ]
  },
  {
   "cell_type": "markdown",
   "metadata": {},
   "source": [
    "## Tarefa 2:\n",
    "### (2,0 pontos): Manipule algebricamente a equação obtida no item “a” e encontre a expressão da concentração em um ponto genérico (x, y) no instante futuro t + 1 em função das concentrações no instante atual t\n",
    "![Alt text](imgs//tarefas2e3_feitas.jpeg)"
   ]
  },
  {
   "cell_type": "markdown",
   "metadata": {},
   "source": [
    "## Tarefa 3:"
   ]
  },
  {
   "cell_type": "code",
   "execution_count": 35,
   "metadata": {},
   "outputs": [],
   "source": [
    "#Dados do problema\n",
    "K = 1 #m²/s\n",
    "alpha = 1 #m/s\n",
    "T = 3 #s\n",
    "Q_ponto = 100 #kg/ms\n",
    "Lx = 30 #m\n",
    "Ly = 20 #m\n",
    "Tempo_total = 10*T #s\n",
    "\n",
    "#Ponto de solta do poluente\n",
    "n = 10 #número do grupo\n",
    "a = n/1.4\n",
    "b = (60/(n+5))"
   ]
  },
  {
   "cell_type": "code",
   "execution_count": 36,
   "metadata": {},
   "outputs": [],
   "source": [
    "#Contornos do problema\n",
    "\n",
    "#Contorno A\n",
    "#   delta_t/delta_s² < 1/4*K\n",
    "#   delta_t/delta_s² < 0.25\n",
    "#delta_x = delta_y = delta_s\n",
    "delta_s = 1 #m\n",
    "divisor = 1.5 #numero necessario para fazer que a condição de contorno seja satisfeita (sempre deixar maior que 1)\n",
    "delta_t = (0.25*delta_s**2)/divisor\n"
   ]
  },
  {
   "cell_type": "code",
   "execution_count": 37,
   "metadata": {},
   "outputs": [],
   "source": [
    "x = int(Lx/delta_s) + 1\n",
    "y = int(Ly/delta_s) + 1\n",
    "\n",
    "V = alpha*sin(pi*x/5)\n",
    "\n",
    "C = np.zeros((x, y))\n",
    "\n",
    "tempo = np.arange(0, Tempo_total, delta_t)\n",
    "Cf = C.copy()\n",
    "Cp = C.copy()\n",
    "Erro = np.zeros((x, y))"
   ]
  },
  {
   "cell_type": "code",
   "execution_count": 38,
   "metadata": {},
   "outputs": [],
   "source": [
    "#lembrando que o i é a coluna e o j é a linha -> No enunciado está invertido\n",
    "for t in range(1, len(tempo)):\n",
    "    for i in range(0, y-1):    \n",
    "        for j in range(0, x-1):\n",
    "            termo_eno = (K/delta_s**2)*(Cp[j+1][i] + Cp[j-1][i] - 4*Cp[j][i] + Cp[j][i+1] + Cp[j][i-1])\n",
    "            Cf[j][i] = Cp[j][i] + delta_t*((Q_ponto/delta_s**2) - (alpha*(Cp[j+1][i] - Cp[j-1][i])/2*delta_s) - (V*(Cp[j][i+1] - Cp[j][i-1])/2*delta_s) + termo_eno)\n",
    "    Cp = Cf.copy()"
   ]
  },
  {
   "cell_type": "code",
   "execution_count": 39,
   "metadata": {},
   "outputs": [
    {
     "data": {
      "image/png": "[encoded data removed]",
      "text/plain": [
       "<Figure size 432x288 with 2 Axes>"
      ]
     },
     "metadata": {
      "needs_background": "light"
     },
     "output_type": "display_data"
    }
   ],
   "source": [
    "#plotar o gráfico como um mapa de calor\n",
    "plt.imshow(Cf, cmap='coolwarm', interpolation='nearest')\n",
    "plt.colorbar()\n",
    "plt.show()"
   ]
  },
  {
   "cell_type": "code",
   "execution_count": null,
   "metadata": {},
   "outputs": [],
   "source": []
  },
  {
   "cell_type": "code",
   "execution_count": null,
   "metadata": {},
   "outputs": [],
   "source": []
  }
 ],
 "metadata": {
  "kernelspec": {
   "display_name": "Python 3.9.7 ('base')",
   "language": "python",
   "name": "python3"
  },
  "language_info": {
   "codemirror_mode": {
    "name": "ipython",
    "version": 3
   },
   "file_extension": ".py",
   "mimetype": "text/x-python",
   "name": "python",
   "nbconvert_exporter": "python",
   "pygments_lexer": "ipython3",
   "version": "3.9.7"
  },
  "orig_nbformat": 4,
  "vscode": {
   "interpreter": {
    "hash": "7b47bc0eac43447306f243247f9af22825852346a8eac23e0be61098dfae2b36"
   }
  }
 },
 "nbformat": 4,
 "nbformat_minor": 2
}
